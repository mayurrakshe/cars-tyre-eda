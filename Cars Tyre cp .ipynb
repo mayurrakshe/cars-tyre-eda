{
 "cells": [
  {
   "cell_type": "code",
   "execution_count": 1,
   "id": "2d4b3836",
   "metadata": {},
   "outputs": [
    {
     "name": "stderr",
     "output_type": "stream",
     "text": [
      "C:\\Users\\raksh\\anaconda3\\Lib\\site-packages\\pandas\\core\\arrays\\masked.py:60: UserWarning: Pandas requires version '1.3.6' or newer of 'bottleneck' (version '1.3.5' currently installed).\n",
      "  from pandas.core import (\n"
     ]
    }
   ],
   "source": [
    "from sklearn.model_selection import train_test_split\n",
    "from sklearn.ensemble import RandomForestRegressor\n",
    "from sklearn.impute import SimpleImputer\n",
    "from sklearn.preprocessing import LabelEncoder\n",
    "import pandas as pd \n",
    "import numpy as np \n"
   ]
  },
  {
   "cell_type": "code",
   "execution_count": 2,
   "id": "a302c000",
   "metadata": {},
   "outputs": [
    {
     "name": "stdout",
     "output_type": "stream",
     "text": [
      "Requirement already satisfied: pandas in c:\\users\\raksh\\anaconda3\\lib\\site-packages (2.2.2)\n",
      "Requirement already satisfied: numpy>=1.23.2 in c:\\users\\raksh\\anaconda3\\lib\\site-packages (from pandas) (1.24.3)\n",
      "Requirement already satisfied: python-dateutil>=2.8.2 in c:\\users\\raksh\\anaconda3\\lib\\site-packages (from pandas) (2.8.2)\n",
      "Requirement already satisfied: pytz>=2020.1 in c:\\users\\raksh\\anaconda3\\lib\\site-packages (from pandas) (2023.3.post1)\n",
      "Requirement already satisfied: tzdata>=2022.7 in c:\\users\\raksh\\anaconda3\\lib\\site-packages (from pandas) (2023.3)\n",
      "Requirement already satisfied: six>=1.5 in c:\\users\\raksh\\anaconda3\\lib\\site-packages (from python-dateutil>=2.8.2->pandas) (1.16.0)\n"
     ]
    }
   ],
   "source": [
    "!pip install pandas "
   ]
  },
  {
   "cell_type": "code",
   "execution_count": 3,
   "id": "c23eb90c",
   "metadata": {},
   "outputs": [],
   "source": [
    "import pandas as pd "
   ]
  },
  {
   "cell_type": "code",
   "execution_count": 4,
   "id": "748ee03b",
   "metadata": {},
   "outputs": [
    {
     "data": {
      "text/html": [
       "<div>\n",
       "<style scoped>\n",
       "    .dataframe tbody tr th:only-of-type {\n",
       "        vertical-align: middle;\n",
       "    }\n",
       "\n",
       "    .dataframe tbody tr th {\n",
       "        vertical-align: top;\n",
       "    }\n",
       "\n",
       "    .dataframe thead th {\n",
       "        text-align: right;\n",
       "    }\n",
       "</style>\n",
       "<table border=\"1\" class=\"dataframe\">\n",
       "  <thead>\n",
       "    <tr style=\"text-align: right;\">\n",
       "      <th></th>\n",
       "      <th>Brand</th>\n",
       "      <th>Model</th>\n",
       "      <th>Submodel</th>\n",
       "      <th>Tyre Brand</th>\n",
       "      <th>Serial No.</th>\n",
       "      <th>Type</th>\n",
       "      <th>Load Index</th>\n",
       "      <th>Size</th>\n",
       "      <th>Selling Price</th>\n",
       "      <th>Original Price</th>\n",
       "      <th>Rating</th>\n",
       "    </tr>\n",
       "  </thead>\n",
       "  <tbody>\n",
       "    <tr>\n",
       "      <th>0</th>\n",
       "      <td>Maruti</td>\n",
       "      <td>Swift Dzire</td>\n",
       "      <td>LDI (Diesel)</td>\n",
       "      <td>JKTyre</td>\n",
       "      <td>Taximaxx</td>\n",
       "      <td>Tubeless</td>\n",
       "      <td>85</td>\n",
       "      <td>165/80 R 14</td>\n",
       "      <td>3,255</td>\n",
       "      <td>3,255</td>\n",
       "      <td>5.0</td>\n",
       "    </tr>\n",
       "    <tr>\n",
       "      <th>1</th>\n",
       "      <td>Maruti</td>\n",
       "      <td>Swift Dzire</td>\n",
       "      <td>LDI (Diesel)</td>\n",
       "      <td>CEAT</td>\n",
       "      <td>Milage X3</td>\n",
       "      <td>Tubeless</td>\n",
       "      <td>85</td>\n",
       "      <td>165/80 R 14</td>\n",
       "      <td>3,406</td>\n",
       "      <td>3,406</td>\n",
       "      <td>4.0</td>\n",
       "    </tr>\n",
       "    <tr>\n",
       "      <th>2</th>\n",
       "      <td>Maruti</td>\n",
       "      <td>Swift Dzire</td>\n",
       "      <td>LDI (Diesel)</td>\n",
       "      <td>Apollo</td>\n",
       "      <td>Amazer 4G Life</td>\n",
       "      <td>Tubeless</td>\n",
       "      <td>85</td>\n",
       "      <td>165/80 R 14</td>\n",
       "      <td>3,490</td>\n",
       "      <td>4,319</td>\n",
       "      <td>4.5</td>\n",
       "    </tr>\n",
       "    <tr>\n",
       "      <th>3</th>\n",
       "      <td>Maruti</td>\n",
       "      <td>Swift Dzire</td>\n",
       "      <td>LDI (Diesel)</td>\n",
       "      <td>Continental</td>\n",
       "      <td>Comfort Contact CC6</td>\n",
       "      <td>Tubeless</td>\n",
       "      <td>85</td>\n",
       "      <td>165/80 R 14</td>\n",
       "      <td>4,484</td>\n",
       "      <td>4,244</td>\n",
       "      <td>NaN</td>\n",
       "    </tr>\n",
       "    <tr>\n",
       "      <th>4</th>\n",
       "      <td>Maruti</td>\n",
       "      <td>Swift Dzire</td>\n",
       "      <td>LDI (Diesel)</td>\n",
       "      <td>GoodYear</td>\n",
       "      <td>Assurance Duraplus 2</td>\n",
       "      <td>Tubeless</td>\n",
       "      <td>85</td>\n",
       "      <td>165/80 R 14</td>\n",
       "      <td>3,025</td>\n",
       "      <td>3,025</td>\n",
       "      <td>4.2</td>\n",
       "    </tr>\n",
       "  </tbody>\n",
       "</table>\n",
       "</div>"
      ],
      "text/plain": [
       "   Brand         Model      Submodel   Tyre Brand            Serial No.  \\\n",
       "0  Maruti  Swift Dzire  LDI (Diesel)       JKTyre              Taximaxx   \n",
       "1  Maruti  Swift Dzire  LDI (Diesel)         CEAT             Milage X3   \n",
       "2  Maruti  Swift Dzire  LDI (Diesel)       Apollo        Amazer 4G Life   \n",
       "3  Maruti  Swift Dzire  LDI (Diesel)  Continental   Comfort Contact CC6   \n",
       "4  Maruti  Swift Dzire  LDI (Diesel)     GoodYear  Assurance Duraplus 2   \n",
       "\n",
       "       Type  Load Index         Size Selling Price Original Price  Rating  \n",
       "0  Tubeless          85  165/80 R 14         3,255          3,255     5.0  \n",
       "1  Tubeless          85  165/80 R 14         3,406          3,406     4.0  \n",
       "2  Tubeless          85  165/80 R 14         3,490          4,319     4.5  \n",
       "3  Tubeless          85  165/80 R 14         4,484          4,244     NaN  \n",
       "4  Tubeless          85  165/80 R 14         3,025          3,025     4.2  "
      ]
     },
     "execution_count": 4,
     "metadata": {},
     "output_type": "execute_result"
    }
   ],
   "source": [
    "df = pd.read_csv(r\"C:\\Users\\raksh\\Downloads\\archive (1)\\Car_Tyres_Dataset.csv\")\n",
    "df.head()"
   ]
  },
  {
   "cell_type": "code",
   "execution_count": 5,
   "id": "8e4b7d17",
   "metadata": {},
   "outputs": [
    {
     "data": {
      "text/plain": [
       "(4350, 11)"
      ]
     },
     "execution_count": 5,
     "metadata": {},
     "output_type": "execute_result"
    }
   ],
   "source": [
    "df.shape"
   ]
  },
  {
   "cell_type": "code",
   "execution_count": 6,
   "id": "2cb7b37d",
   "metadata": {},
   "outputs": [
    {
     "name": "stdout",
     "output_type": "stream",
     "text": [
      "<class 'pandas.core.frame.DataFrame'>\n",
      "RangeIndex: 4350 entries, 0 to 4349\n",
      "Data columns (total 11 columns):\n",
      " #   Column          Non-Null Count  Dtype  \n",
      "---  ------          --------------  -----  \n",
      " 0   Brand           4350 non-null   object \n",
      " 1   Model           4350 non-null   object \n",
      " 2   Submodel        4350 non-null   object \n",
      " 3   Tyre Brand      4350 non-null   object \n",
      " 4   Serial No.      4350 non-null   object \n",
      " 5   Type            4350 non-null   object \n",
      " 6   Load Index      4350 non-null   int64  \n",
      " 7   Size            4350 non-null   object \n",
      " 8   Selling Price   4350 non-null   object \n",
      " 9   Original Price  4350 non-null   object \n",
      " 10  Rating          2248 non-null   float64\n",
      "dtypes: float64(1), int64(1), object(9)\n",
      "memory usage: 374.0+ KB\n"
     ]
    }
   ],
   "source": [
    "df.info()"
   ]
  },
  {
   "cell_type": "code",
   "execution_count": 7,
   "id": "9c828b86",
   "metadata": {},
   "outputs": [
    {
     "data": {
      "text/html": [
       "<div>\n",
       "<style scoped>\n",
       "    .dataframe tbody tr th:only-of-type {\n",
       "        vertical-align: middle;\n",
       "    }\n",
       "\n",
       "    .dataframe tbody tr th {\n",
       "        vertical-align: top;\n",
       "    }\n",
       "\n",
       "    .dataframe thead th {\n",
       "        text-align: right;\n",
       "    }\n",
       "</style>\n",
       "<table border=\"1\" class=\"dataframe\">\n",
       "  <thead>\n",
       "    <tr style=\"text-align: right;\">\n",
       "      <th></th>\n",
       "      <th>Load Index</th>\n",
       "      <th>Rating</th>\n",
       "    </tr>\n",
       "  </thead>\n",
       "  <tbody>\n",
       "    <tr>\n",
       "      <th>count</th>\n",
       "      <td>4350.000000</td>\n",
       "      <td>2248.000000</td>\n",
       "    </tr>\n",
       "    <tr>\n",
       "      <th>mean</th>\n",
       "      <td>84.101609</td>\n",
       "      <td>4.297598</td>\n",
       "    </tr>\n",
       "    <tr>\n",
       "      <th>std</th>\n",
       "      <td>6.716769</td>\n",
       "      <td>0.698433</td>\n",
       "    </tr>\n",
       "    <tr>\n",
       "      <th>min</th>\n",
       "      <td>69.000000</td>\n",
       "      <td>1.900000</td>\n",
       "    </tr>\n",
       "    <tr>\n",
       "      <th>25%</th>\n",
       "      <td>79.000000</td>\n",
       "      <td>4.000000</td>\n",
       "    </tr>\n",
       "    <tr>\n",
       "      <th>50%</th>\n",
       "      <td>86.000000</td>\n",
       "      <td>4.300000</td>\n",
       "    </tr>\n",
       "    <tr>\n",
       "      <th>75%</th>\n",
       "      <td>88.000000</td>\n",
       "      <td>5.000000</td>\n",
       "    </tr>\n",
       "    <tr>\n",
       "      <th>max</th>\n",
       "      <td>106.000000</td>\n",
       "      <td>5.000000</td>\n",
       "    </tr>\n",
       "  </tbody>\n",
       "</table>\n",
       "</div>"
      ],
      "text/plain": [
       "        Load Index       Rating\n",
       "count  4350.000000  2248.000000\n",
       "mean     84.101609     4.297598\n",
       "std       6.716769     0.698433\n",
       "min      69.000000     1.900000\n",
       "25%      79.000000     4.000000\n",
       "50%      86.000000     4.300000\n",
       "75%      88.000000     5.000000\n",
       "max     106.000000     5.000000"
      ]
     },
     "execution_count": 7,
     "metadata": {},
     "output_type": "execute_result"
    }
   ],
   "source": [
    "df.describe()"
   ]
  },
  {
   "cell_type": "code",
   "execution_count": 8,
   "id": "cad7a7f7",
   "metadata": {},
   "outputs": [
    {
     "data": {
      "text/plain": [
       "Brand                0\n",
       "Model                0\n",
       "Submodel             0\n",
       "Tyre Brand           0\n",
       "Serial No.           0\n",
       "Type                 0\n",
       "Load Index           0\n",
       "Size                 0\n",
       "Selling Price        0\n",
       "Original Price       0\n",
       "Rating            2102\n",
       "dtype: int64"
      ]
     },
     "execution_count": 8,
     "metadata": {},
     "output_type": "execute_result"
    }
   ],
   "source": [
    "df.isnull().sum()"
   ]
  },
  {
   "cell_type": "code",
   "execution_count": 9,
   "id": "c9445ee1",
   "metadata": {},
   "outputs": [],
   "source": [
    "features = df.drop(columns=['Rating', 'Serial No.'])\n",
    "target = df['Rating']\n"
   ]
  },
  {
   "cell_type": "code",
   "execution_count": 10,
   "id": "6f410580",
   "metadata": {},
   "outputs": [],
   "source": [
    "label_encoders = {}\n",
    "for column in features.select_dtypes(include=['object']).columns:\n",
    "    le = LabelEncoder()\n",
    "    features[column] = le.fit_transform(features[column])\n",
    "    label_encoders[column] = le\n"
   ]
  },
  {
   "cell_type": "code",
   "execution_count": 11,
   "id": "5a510353",
   "metadata": {},
   "outputs": [],
   "source": [
    "df_not_missing = features[target.notnull()]\n",
    "target_not_missing = target[target.notnull()]\n",
    "df_missing = features[target.isnull()]\n"
   ]
  },
  {
   "cell_type": "code",
   "execution_count": 12,
   "id": "cec940e9",
   "metadata": {},
   "outputs": [],
   "source": [
    "imputer = SimpleImputer(strategy='mean')\n",
    "df_not_missing = imputer.fit_transform(df_not_missing)\n",
    "df_missing = imputer.transform(df_missing)\n",
    "\n"
   ]
  },
  {
   "cell_type": "code",
   "execution_count": 13,
   "id": "ffd89a8b",
   "metadata": {},
   "outputs": [],
   "source": [
    "X_train, X_test, y_train, y_test = train_test_split(df_not_missing, target_not_missing, test_size=0.2, random_state=42)\n"
   ]
  },
  {
   "cell_type": "code",
   "execution_count": 14,
   "id": "64cf4200",
   "metadata": {
    "scrolled": true
   },
   "outputs": [
    {
     "data": {
      "text/html": [
       "<style>#sk-container-id-1 {color: black;}#sk-container-id-1 pre{padding: 0;}#sk-container-id-1 div.sk-toggleable {background-color: white;}#sk-container-id-1 label.sk-toggleable__label {cursor: pointer;display: block;width: 100%;margin-bottom: 0;padding: 0.3em;box-sizing: border-box;text-align: center;}#sk-container-id-1 label.sk-toggleable__label-arrow:before {content: \"▸\";float: left;margin-right: 0.25em;color: #696969;}#sk-container-id-1 label.sk-toggleable__label-arrow:hover:before {color: black;}#sk-container-id-1 div.sk-estimator:hover label.sk-toggleable__label-arrow:before {color: black;}#sk-container-id-1 div.sk-toggleable__content {max-height: 0;max-width: 0;overflow: hidden;text-align: left;background-color: #f0f8ff;}#sk-container-id-1 div.sk-toggleable__content pre {margin: 0.2em;color: black;border-radius: 0.25em;background-color: #f0f8ff;}#sk-container-id-1 input.sk-toggleable__control:checked~div.sk-toggleable__content {max-height: 200px;max-width: 100%;overflow: auto;}#sk-container-id-1 input.sk-toggleable__control:checked~label.sk-toggleable__label-arrow:before {content: \"▾\";}#sk-container-id-1 div.sk-estimator input.sk-toggleable__control:checked~label.sk-toggleable__label {background-color: #d4ebff;}#sk-container-id-1 div.sk-label input.sk-toggleable__control:checked~label.sk-toggleable__label {background-color: #d4ebff;}#sk-container-id-1 input.sk-hidden--visually {border: 0;clip: rect(1px 1px 1px 1px);clip: rect(1px, 1px, 1px, 1px);height: 1px;margin: -1px;overflow: hidden;padding: 0;position: absolute;width: 1px;}#sk-container-id-1 div.sk-estimator {font-family: monospace;background-color: #f0f8ff;border: 1px dotted black;border-radius: 0.25em;box-sizing: border-box;margin-bottom: 0.5em;}#sk-container-id-1 div.sk-estimator:hover {background-color: #d4ebff;}#sk-container-id-1 div.sk-parallel-item::after {content: \"\";width: 100%;border-bottom: 1px solid gray;flex-grow: 1;}#sk-container-id-1 div.sk-label:hover label.sk-toggleable__label {background-color: #d4ebff;}#sk-container-id-1 div.sk-serial::before {content: \"\";position: absolute;border-left: 1px solid gray;box-sizing: border-box;top: 0;bottom: 0;left: 50%;z-index: 0;}#sk-container-id-1 div.sk-serial {display: flex;flex-direction: column;align-items: center;background-color: white;padding-right: 0.2em;padding-left: 0.2em;position: relative;}#sk-container-id-1 div.sk-item {position: relative;z-index: 1;}#sk-container-id-1 div.sk-parallel {display: flex;align-items: stretch;justify-content: center;background-color: white;position: relative;}#sk-container-id-1 div.sk-item::before, #sk-container-id-1 div.sk-parallel-item::before {content: \"\";position: absolute;border-left: 1px solid gray;box-sizing: border-box;top: 0;bottom: 0;left: 50%;z-index: -1;}#sk-container-id-1 div.sk-parallel-item {display: flex;flex-direction: column;z-index: 1;position: relative;background-color: white;}#sk-container-id-1 div.sk-parallel-item:first-child::after {align-self: flex-end;width: 50%;}#sk-container-id-1 div.sk-parallel-item:last-child::after {align-self: flex-start;width: 50%;}#sk-container-id-1 div.sk-parallel-item:only-child::after {width: 0;}#sk-container-id-1 div.sk-dashed-wrapped {border: 1px dashed gray;margin: 0 0.4em 0.5em 0.4em;box-sizing: border-box;padding-bottom: 0.4em;background-color: white;}#sk-container-id-1 div.sk-label label {font-family: monospace;font-weight: bold;display: inline-block;line-height: 1.2em;}#sk-container-id-1 div.sk-label-container {text-align: center;}#sk-container-id-1 div.sk-container {/* jupyter's `normalize.less` sets `[hidden] { display: none; }` but bootstrap.min.css set `[hidden] { display: none !important; }` so we also need the `!important` here to be able to override the default hidden behavior on the sphinx rendered scikit-learn.org. See: https://github.com/scikit-learn/scikit-learn/issues/21755 */display: inline-block !important;position: relative;}#sk-container-id-1 div.sk-text-repr-fallback {display: none;}</style><div id=\"sk-container-id-1\" class=\"sk-top-container\"><div class=\"sk-text-repr-fallback\"><pre>RandomForestRegressor(random_state=42)</pre><b>In a Jupyter environment, please rerun this cell to show the HTML representation or trust the notebook. <br />On GitHub, the HTML representation is unable to render, please try loading this page with nbviewer.org.</b></div><div class=\"sk-container\" hidden><div class=\"sk-item\"><div class=\"sk-estimator sk-toggleable\"><input class=\"sk-toggleable__control sk-hidden--visually\" id=\"sk-estimator-id-1\" type=\"checkbox\" checked><label for=\"sk-estimator-id-1\" class=\"sk-toggleable__label sk-toggleable__label-arrow\">RandomForestRegressor</label><div class=\"sk-toggleable__content\"><pre>RandomForestRegressor(random_state=42)</pre></div></div></div></div></div>"
      ],
      "text/plain": [
       "RandomForestRegressor(random_state=42)"
      ]
     },
     "execution_count": 14,
     "metadata": {},
     "output_type": "execute_result"
    }
   ],
   "source": [
    "model = RandomForestRegressor(random_state=42)\n",
    "model.fit(X_train, y_train)\n"
   ]
  },
  {
   "cell_type": "code",
   "execution_count": 15,
   "id": "c4843a55",
   "metadata": {},
   "outputs": [],
   "source": [
    "predicted_values = model.predict(df_missing)\n"
   ]
  },
  {
   "cell_type": "code",
   "execution_count": 16,
   "id": "e2e19e3b",
   "metadata": {},
   "outputs": [],
   "source": [
    "df.loc[df['Rating'].isnull(), 'Rating'] = predicted_values\n"
   ]
  },
  {
   "cell_type": "code",
   "execution_count": 17,
   "id": "39c8fac9",
   "metadata": {},
   "outputs": [
    {
     "data": {
      "text/html": [
       "<div>\n",
       "<style scoped>\n",
       "    .dataframe tbody tr th:only-of-type {\n",
       "        vertical-align: middle;\n",
       "    }\n",
       "\n",
       "    .dataframe tbody tr th {\n",
       "        vertical-align: top;\n",
       "    }\n",
       "\n",
       "    .dataframe thead th {\n",
       "        text-align: right;\n",
       "    }\n",
       "</style>\n",
       "<table border=\"1\" class=\"dataframe\">\n",
       "  <thead>\n",
       "    <tr style=\"text-align: right;\">\n",
       "      <th></th>\n",
       "      <th>Brand</th>\n",
       "      <th>Model</th>\n",
       "      <th>Submodel</th>\n",
       "      <th>Tyre Brand</th>\n",
       "      <th>Serial No.</th>\n",
       "      <th>Type</th>\n",
       "      <th>Load Index</th>\n",
       "      <th>Size</th>\n",
       "      <th>Selling Price</th>\n",
       "      <th>Original Price</th>\n",
       "      <th>Rating</th>\n",
       "    </tr>\n",
       "  </thead>\n",
       "  <tbody>\n",
       "    <tr>\n",
       "      <th>0</th>\n",
       "      <td>Maruti</td>\n",
       "      <td>Swift Dzire</td>\n",
       "      <td>LDI (Diesel)</td>\n",
       "      <td>JKTyre</td>\n",
       "      <td>Taximaxx</td>\n",
       "      <td>Tubeless</td>\n",
       "      <td>85</td>\n",
       "      <td>165/80 R 14</td>\n",
       "      <td>3,255</td>\n",
       "      <td>3,255</td>\n",
       "      <td>5.000</td>\n",
       "    </tr>\n",
       "    <tr>\n",
       "      <th>1</th>\n",
       "      <td>Maruti</td>\n",
       "      <td>Swift Dzire</td>\n",
       "      <td>LDI (Diesel)</td>\n",
       "      <td>CEAT</td>\n",
       "      <td>Milage X3</td>\n",
       "      <td>Tubeless</td>\n",
       "      <td>85</td>\n",
       "      <td>165/80 R 14</td>\n",
       "      <td>3,406</td>\n",
       "      <td>3,406</td>\n",
       "      <td>4.000</td>\n",
       "    </tr>\n",
       "    <tr>\n",
       "      <th>2</th>\n",
       "      <td>Maruti</td>\n",
       "      <td>Swift Dzire</td>\n",
       "      <td>LDI (Diesel)</td>\n",
       "      <td>Apollo</td>\n",
       "      <td>Amazer 4G Life</td>\n",
       "      <td>Tubeless</td>\n",
       "      <td>85</td>\n",
       "      <td>165/80 R 14</td>\n",
       "      <td>3,490</td>\n",
       "      <td>4,319</td>\n",
       "      <td>4.500</td>\n",
       "    </tr>\n",
       "    <tr>\n",
       "      <th>3</th>\n",
       "      <td>Maruti</td>\n",
       "      <td>Swift Dzire</td>\n",
       "      <td>LDI (Diesel)</td>\n",
       "      <td>Continental</td>\n",
       "      <td>Comfort Contact CC6</td>\n",
       "      <td>Tubeless</td>\n",
       "      <td>85</td>\n",
       "      <td>165/80 R 14</td>\n",
       "      <td>4,484</td>\n",
       "      <td>4,244</td>\n",
       "      <td>4.222</td>\n",
       "    </tr>\n",
       "    <tr>\n",
       "      <th>4</th>\n",
       "      <td>Maruti</td>\n",
       "      <td>Swift Dzire</td>\n",
       "      <td>LDI (Diesel)</td>\n",
       "      <td>GoodYear</td>\n",
       "      <td>Assurance Duraplus 2</td>\n",
       "      <td>Tubeless</td>\n",
       "      <td>85</td>\n",
       "      <td>165/80 R 14</td>\n",
       "      <td>3,025</td>\n",
       "      <td>3,025</td>\n",
       "      <td>4.200</td>\n",
       "    </tr>\n",
       "  </tbody>\n",
       "</table>\n",
       "</div>"
      ],
      "text/plain": [
       "   Brand         Model      Submodel   Tyre Brand            Serial No.  \\\n",
       "0  Maruti  Swift Dzire  LDI (Diesel)       JKTyre              Taximaxx   \n",
       "1  Maruti  Swift Dzire  LDI (Diesel)         CEAT             Milage X3   \n",
       "2  Maruti  Swift Dzire  LDI (Diesel)       Apollo        Amazer 4G Life   \n",
       "3  Maruti  Swift Dzire  LDI (Diesel)  Continental   Comfort Contact CC6   \n",
       "4  Maruti  Swift Dzire  LDI (Diesel)     GoodYear  Assurance Duraplus 2   \n",
       "\n",
       "       Type  Load Index         Size Selling Price Original Price  Rating  \n",
       "0  Tubeless          85  165/80 R 14         3,255          3,255   5.000  \n",
       "1  Tubeless          85  165/80 R 14         3,406          3,406   4.000  \n",
       "2  Tubeless          85  165/80 R 14         3,490          4,319   4.500  \n",
       "3  Tubeless          85  165/80 R 14         4,484          4,244   4.222  \n",
       "4  Tubeless          85  165/80 R 14         3,025          3,025   4.200  "
      ]
     },
     "execution_count": 17,
     "metadata": {},
     "output_type": "execute_result"
    }
   ],
   "source": [
    "df['Rating'].isnull().sum()\n",
    "df.head()"
   ]
  },
  {
   "cell_type": "code",
   "execution_count": 18,
   "id": "a5da8ff2",
   "metadata": {},
   "outputs": [
    {
     "data": {
      "text/plain": [
       "Brand             0\n",
       "Model             0\n",
       "Submodel          0\n",
       "Tyre Brand        0\n",
       "Serial No.        0\n",
       "Type              0\n",
       "Load Index        0\n",
       "Size              0\n",
       "Selling Price     0\n",
       "Original Price    0\n",
       "Rating            0\n",
       "dtype: int64"
      ]
     },
     "execution_count": 18,
     "metadata": {},
     "output_type": "execute_result"
    }
   ],
   "source": [
    "df.isnull().sum()"
   ]
  },
  {
   "cell_type": "markdown",
   "id": "c7b7d438",
   "metadata": {},
   "source": [
    "# Demand for Tube Vs TubeLess Tyre "
   ]
  },
  {
   "cell_type": "code",
   "execution_count": 41,
   "id": "5a772453",
   "metadata": {},
   "outputs": [],
   "source": [
    "df.to_csv('output.csv', index=False)"
   ]
  }
 ],
 "metadata": {
  "kernelspec": {
   "display_name": "Python 3 (ipykernel)",
   "language": "python",
   "name": "python3"
  },
  "language_info": {
   "codemirror_mode": {
    "name": "ipython",
    "version": 3
   },
   "file_extension": ".py",
   "mimetype": "text/x-python",
   "name": "python",
   "nbconvert_exporter": "python",
   "pygments_lexer": "ipython3",
   "version": "3.11.5"
  }
 },
 "nbformat": 4,
 "nbformat_minor": 5
}
